{
 "cells": [
  {
   "cell_type": "markdown",
   "metadata": {},
   "source": [
    "<center><h2>Python Practice</h2></center>\n",
    "    "
   ]
  },
  {
   "cell_type": "code",
   "execution_count": 3,
   "metadata": {},
   "outputs": [
    {
     "name": "stdout",
     "output_type": "stream",
     "text": [
      "hello world\n",
      "abc\n",
      "hello 'Ankit' hello\n",
      "hello \"Ankit\" hello\n"
     ]
    }
   ],
   "source": [
    "# using print function\n",
    "\n",
    "print(\"hello world\")\n",
    "print('abc')\n",
    "print(\"hello 'Ankit' hello\")\n",
    "print('hello \"Ankit\" hello')\n"
   ]
  },
  {
   "cell_type": "code",
   "execution_count": 6,
   "metadata": {},
   "outputs": [
    {
     "name": "stdout",
     "output_type": "stream",
     "text": [
      "hello \"Ankit\" hello\n",
      "hello 'Ankit' hello\n"
     ]
    }
   ],
   "source": [
    "#using escape sequences\n",
    "print(\"hello \\\"Ankit\\\" hello\")\n",
    "print('hello \\'Ankit\\' hello')\n",
    "\n"
   ]
  },
  {
   "cell_type": "code",
   "execution_count": 7,
   "metadata": {},
   "outputs": [
    {
     "name": "stdout",
     "output_type": "stream",
     "text": [
      "this is \\ backslash\n"
     ]
    }
   ],
   "source": [
    "print(\"this is \\\\ backslash\")"
   ]
  },
  {
   "cell_type": "code",
   "execution_count": 8,
   "metadata": {},
   "outputs": [
    {
     "name": "stdout",
     "output_type": "stream",
     "text": [
      "hello\n",
      "World\n"
     ]
    }
   ],
   "source": [
    "print(\"hello\\nWorld\")"
   ]
  },
  {
   "cell_type": "code",
   "execution_count": 9,
   "metadata": {},
   "outputs": [
    {
     "name": "stdout",
     "output_type": "stream",
     "text": [
      "hello\tAnkit\n"
     ]
    }
   ],
   "source": [
    "print(\"hello\\tAnkit\")"
   ]
  },
  {
   "cell_type": "code",
   "execution_count": 11,
   "metadata": {},
   "outputs": [
    {
     "name": "stdout",
     "output_type": "stream",
     "text": [
      "hello\bAnkit\n"
     ]
    }
   ],
   "source": [
    "print(\"hello\\bAnkit\") #omit one element"
   ]
  },
  {
   "cell_type": "code",
   "execution_count": 13,
   "metadata": {},
   "outputs": [
    {
     "name": "stdout",
     "output_type": "stream",
     "text": [
      "Ankit is \\n boy\n",
      "\\'\\\"\n"
     ]
    }
   ],
   "source": [
    "print(\"Ankit is \\\\n boy\")\n",
    "print(\"\\\\\\'\\\\\\\"\")"
   ]
  },
  {
   "cell_type": "code",
   "execution_count": 14,
   "metadata": {},
   "outputs": [
    {
     "name": "stdout",
     "output_type": "stream",
     "text": [
      "This is /\\/\\/\\/\\/\\ mountain\n"
     ]
    }
   ],
   "source": [
    "print(\"This is /\\\\/\\\\/\\\\/\\\\/\\\\ mountain\")"
   ]
  },
  {
   "cell_type": "code",
   "execution_count": 15,
   "metadata": {},
   "outputs": [
    {
     "name": "stdout",
     "output_type": "stream",
     "text": [
      "😂\n"
     ]
    }
   ],
   "source": [
    "print(\"\\U0001F602\")"
   ]
  },
  {
   "cell_type": "code",
   "execution_count": 16,
   "metadata": {},
   "outputs": [
    {
     "name": "stdout",
     "output_type": "stream",
     "text": [
      "5\n",
      "6\n",
      "0.6666666666666666\n",
      "0\n",
      "2\n",
      "8\n",
      "0\n",
      "0\n"
     ]
    }
   ],
   "source": [
    "print(2+3)\n",
    "print(2*3)\n",
    "print(2/3)\n",
    "print(4%2)\n",
    "print(4//2)\n",
    "print(2**3)\n",
    "print(2//4)\n",
    "print(3-3)"
   ]
  },
  {
   "cell_type": "code",
   "execution_count": 23,
   "metadata": {},
   "outputs": [
    {
     "name": "stdout",
     "output_type": "stream",
     "text": [
      "20.0\n"
     ]
    },
    {
     "data": {
      "text/plain": [
       "1.414"
      ]
     },
     "execution_count": 23,
     "metadata": {},
     "output_type": "execute_result"
    }
   ],
   "source": [
    "print(2**3/2*6-4*(3-4/2))\n",
    "round(2**0.5,3)  #rounding off"
   ]
  },
  {
   "cell_type": "code",
   "execution_count": 24,
   "metadata": {},
   "outputs": [
    {
     "name": "stdout",
     "output_type": "stream",
     "text": [
      "2.5\n"
     ]
    }
   ],
   "source": [
    "print((2+3)**5/2%6) #using precedence"
   ]
  },
  {
   "cell_type": "code",
   "execution_count": 25,
   "metadata": {},
   "outputs": [
    {
     "name": "stdout",
     "output_type": "stream",
     "text": [
      "2\n",
      "Ankit\n",
      "123\n"
     ]
    }
   ],
   "source": [
    "#using variables\n",
    "\n",
    "num1=2\n",
    "print(num1)\n",
    "\n",
    "name=\"Ankit\"\n",
    "print(name)\n",
    "\n",
    "name=123\n",
    "print(name)"
   ]
  },
  {
   "cell_type": "code",
   "execution_count": 32,
   "metadata": {},
   "outputs": [
    {
     "name": "stdout",
     "output_type": "stream",
     "text": [
      "Ankit Sinha\n"
     ]
    }
   ],
   "source": [
    "#concatenation\n",
    "\n",
    "f_name=\"Ankit\"\n",
    "l_name=\"Sinha\"\n",
    "full_name=f_name+\" \"+l_name\n",
    "print(full_name)"
   ]
  },
  {
   "cell_type": "code",
   "execution_count": 38,
   "metadata": {},
   "outputs": [
    {
     "name": "stdout",
     "output_type": "stream",
     "text": [
      "Ankit3\n",
      "Ankit Roll 79\n",
      "AnkitAnkitAnkit\n"
     ]
    }
   ],
   "source": [
    "f_name=\"Ankit\"\n",
    "res=f_name+str(3)\n",
    "resl=f_name+\" \"+\"Roll\"+\" \"+str(79)\n",
    "print(res)\n",
    "print(resl)\n",
    "print(f_name*3)"
   ]
  },
  {
   "cell_type": "code",
   "execution_count": 1,
   "metadata": {},
   "outputs": [
    {
     "name": "stdout",
     "output_type": "stream",
     "text": [
      "Enter First name : Shrutika\n",
      "Shrutika Sinha\n"
     ]
    }
   ],
   "source": [
    "#using input\n",
    "\n",
    "name=input(\"Enter First name : \")\n",
    "res=name+\" \"+\"Sinha\"\n",
    "print(res)"
   ]
  },
  {
   "cell_type": "code",
   "execution_count": 2,
   "metadata": {},
   "outputs": [
    {
     "name": "stdout",
     "output_type": "stream",
     "text": [
      "Enter first number : 4\n",
      "Enter second number : 5\n",
      "9\n"
     ]
    }
   ],
   "source": [
    "num1=int(input(\"Enter first number : \"))\n",
    "num2=int(input(\"Enter second number : \"))\n",
    "tot=num1+num2\n",
    "print(tot)"
   ]
  },
  {
   "cell_type": "code",
   "execution_count": 4,
   "metadata": {},
   "outputs": [
    {
     "name": "stdout",
     "output_type": "stream",
     "text": [
      "Enter first number : 875\n",
      "Enter second number : 5\n",
      "total is 880\n"
     ]
    }
   ],
   "source": [
    "num1=int(input(\"Enter first number : \"))\n",
    "num2=int(input(\"Enter second number : \"))\n",
    "tot=num1+num2\n",
    "print(\"total is\"+\" \"+str(tot))"
   ]
  },
  {
   "cell_type": "code",
   "execution_count": 6,
   "metadata": {},
   "outputs": [
    {
     "name": "stdout",
     "output_type": "stream",
     "text": [
      "3\n",
      "44.0\n",
      "33\n",
      "77.0\n"
     ]
    }
   ],
   "source": [
    "num1=str(3) #here 3 is string\n",
    "n2=float(\"44\")\n",
    "n3=int(\"33\")\n",
    "print(num1)\n",
    "print(n2)\n",
    "print(n3)\n",
    "print(n2+n3)  #final value in float\n"
   ]
  },
  {
   "cell_type": "code",
   "execution_count": 8,
   "metadata": {},
   "outputs": [
    {
     "name": "stdout",
     "output_type": "stream",
     "text": [
      "hello your name is ankit and your age is 20\n"
     ]
    }
   ],
   "source": [
    "name,age=\"ankit\",20\n",
    "print(\"hello\"+\" \"+\"your name is\"+\" \"+name+\" \"+\"and your age is\"+\" \"+str(age))"
   ]
  },
  {
   "cell_type": "code",
   "execution_count": 9,
   "metadata": {},
   "outputs": [
    {
     "name": "stdout",
     "output_type": "stream",
     "text": [
      "6\n"
     ]
    }
   ],
   "source": [
    "x=y=z=w=s=t=1\n",
    "print(x+y+z+w+s+t)"
   ]
  },
  {
   "cell_type": "code",
   "execution_count": 10,
   "metadata": {},
   "outputs": [
    {
     "name": "stdout",
     "output_type": "stream",
     "text": [
      "Enter your name and ageankit 20\n",
      "ankit 20\n",
      "ankit\n",
      "20\n"
     ]
    }
   ],
   "source": [
    "name,age=input(\"Enter your name and age\").split(\" \")\n",
    "print(name,age)\n",
    "print(name)\n",
    "print(age)"
   ]
  },
  {
   "cell_type": "code",
   "execution_count": 11,
   "metadata": {},
   "outputs": [
    {
     "name": "stdout",
     "output_type": "stream",
     "text": [
      "Enter your name and ageankit 20\n",
      "hello your name is ankit and age is 20\n"
     ]
    }
   ],
   "source": [
    "name,age=input(\"Enter your name and age\").split(\" \")\n",
    "print(f\"hello your name is {name} and age is {age}\") #clean syntax"
   ]
  },
  {
   "cell_type": "code",
   "execution_count": 13,
   "metadata": {},
   "outputs": [
    {
     "name": "stdout",
     "output_type": "stream",
     "text": [
      "Enter your name and ageankit 20\n",
      "hello your name is ankit and age is 20\n"
     ]
    }
   ],
   "source": [
    "name,age=input(\"Enter your name and age\").split(\" \")\n",
    "print(\"hello your name is {} and age is {}\".format(name,age)) #clean syntax"
   ]
  },
  {
   "cell_type": "code",
   "execution_count": 18,
   "metadata": {},
   "outputs": [
    {
     "name": "stdout",
     "output_type": "stream",
     "text": [
      "Enter three numbers separated by , 4,5,3\n",
      "average of entered numbers is 10.0\n",
      "average is 10.0\n"
     ]
    }
   ],
   "source": [
    "num1,num2,num3=input(\"Enter three numbers separated by , \").split(\",\")\n",
    "avg=int(num1)+int(num2)+int(num3)/3\n",
    "print(f\"average of entered numbers is {avg}\")\n",
    "print(\"average is {}\".format(avg))\n"
   ]
  },
  {
   "cell_type": "code",
   "execution_count": 19,
   "metadata": {},
   "outputs": [
    {
     "name": "stdout",
     "output_type": "stream",
     "text": [
      "t\n",
      "n\n"
     ]
    }
   ],
   "source": [
    "#operations on string\n",
    "\n",
    "lang=\"python\"\n",
    "print(lang[2])\n",
    "print(lang[5])"
   ]
  },
  {
   "cell_type": "code",
   "execution_count": 22,
   "metadata": {},
   "outputs": [
    {
     "name": "stdout",
     "output_type": "stream",
     "text": [
      " \n",
      "d\n",
      "o\n"
     ]
    }
   ],
   "source": [
    "name=\"Ankit is good\"\n",
    "print(name[5]) #prints space\n",
    "print(name[-1])\n",
    "print(name[-3])"
   ]
  },
  {
   "cell_type": "code",
   "execution_count": 43,
   "metadata": {},
   "outputs": [
    {
     "name": "stdout",
     "output_type": "stream",
     "text": [
      "kit\n",
      "Ankit\n",
      "Anki\n",
      "ki\n",
      "Ankit\n",
      "Ankit\n",
      "nkit\n",
      "Anki\n"
     ]
    }
   ],
   "source": [
    "#using slicing\n",
    "name=\"Ankit\"\n",
    "print(name[2:5])\n",
    "print(name[0:5])\n",
    "print(name[0:4])\n",
    "print(name[2:4])\n",
    "print(name[:])\n",
    "print(name[:5])\n",
    "print(name[1:])\n",
    "print(name[:-1])"
   ]
  },
  {
   "cell_type": "code",
   "execution_count": 47,
   "metadata": {},
   "outputs": [
    {
     "name": "stdout",
     "output_type": "stream",
     "text": [
      "mteais\n",
      "ah\n",
      "ath\n",
      "mteais\n",
      "scitamehtam\n",
      "mehtam\n",
      "reverse order of mathematics is scitamehtam\n"
     ]
    }
   ],
   "source": [
    "#using slicing step count\n",
    "\n",
    "name=\"mathematics\"\n",
    "ll=name[0::2]\n",
    "print(ll)\n",
    "print(name[1:4:2])\n",
    "print(name[1:4:1])\n",
    "print(name[::2])\n",
    "jio=name[::-1]\n",
    "print(jio)\n",
    "new=jio[5:11]\n",
    "print(new)\n",
    "print(f\"reverse order of mathematics is {jio}\")\n",
    "#reverses the string"
   ]
  },
  {
   "cell_type": "code",
   "execution_count": 58,
   "metadata": {},
   "outputs": [
    {
     "name": "stdout",
     "output_type": "stream",
     "text": [
      "11\n",
      "ankit sinha\n",
      "ANKIT SINHA\n",
      "Ankit Sinha\n",
      "1\n",
      "2\n"
     ]
    }
   ],
   "source": [
    "#some string methods\n",
    "\n",
    "name=\"Ankit sinha\"\n",
    "print(len(name))\n",
    "kij=name.lower()\n",
    "print(kij)\n",
    "print(name.upper())\n",
    "print(name.title())\n",
    "print(name.count(\"A\"))\n",
    "print(name.count(\"i\"))\n",
    "\n"
   ]
  },
  {
   "cell_type": "code",
   "execution_count": 59,
   "metadata": {},
   "outputs": [
    {
     "name": "stdout",
     "output_type": "stream",
     "text": [
      "Enter your name and  single character separated by ,ankit,a\n",
      "5\n",
      "1\n"
     ]
    }
   ],
   "source": [
    "name,sing=input(\"Enter your name and  single character separated by ,\").split(\",\")\n",
    "print(len(name))\n",
    "print(name.lower().count(sing.lower()))"
   ]
  },
  {
   "cell_type": "code",
   "execution_count": 6,
   "metadata": {},
   "outputs": [
    {
     "name": "stdout",
     "output_type": "stream",
     "text": [
      "Ankit Sinha\n",
      "       Ankit  ............\n",
      "       Ankit\n",
      "Ankit\n"
     ]
    }
   ],
   "source": [
    "name=\"     Ankit Sinha\"\n",
    "new=name.lstrip()\n",
    "print(new)\n",
    "s1=\"       Ankit  \"\n",
    "dots=\"............\"\n",
    "print(s1+dots)\n",
    "n1=s1.rstrip()\n",
    "print(n1)\n",
    "n2=s1.strip()\n",
    "print(n2)\n"
   ]
  },
  {
   "cell_type": "code",
   "execution_count": 15,
   "metadata": {},
   "outputs": [
    {
     "name": "stdout",
     "output_type": "stream",
     "text": [
      "AnkitSinha\n",
      "Shrutika Sinha\n",
      "she was beautiful and she is good dancer\n",
      "she was beautiful and she was good dancer\n",
      "she was beautiful and she was good dancer\n"
     ]
    }
   ],
   "source": [
    "name=\"Ankit Sinha\"\n",
    "new=name.replace(\" \",\"\")\n",
    "print(new)\n",
    "print(name.replace(\"Ankit\",\"Shrutika\"))\n",
    "string=\"she is beautiful and she is good dancer\"\n",
    "print(string.replace(\"is\",\"was\",1))\n",
    "print(string.replace(\"is\",\"was\",5))\n",
    "print(string.replace(\"is\",\"was\"))"
   ]
  },
  {
   "cell_type": "code",
   "execution_count": 14,
   "metadata": {},
   "outputs": [
    {
     "name": "stdout",
     "output_type": "stream",
     "text": [
      "4\n",
      "20\n"
     ]
    }
   ],
   "source": [
    "string=\"she is good and she is calm\"\n",
    "new=string.find(\"is\")\n",
    "print(new)\n",
    "new1=string.find(\"is\" ,new+1)\n",
    "print(new1)"
   ]
  },
  {
   "cell_type": "code",
   "execution_count": 16,
   "metadata": {},
   "outputs": [
    {
     "name": "stdout",
     "output_type": "stream",
     "text": [
      "**Ankit**\n"
     ]
    }
   ],
   "source": [
    "name=\"Ankit\"\n",
    "print(name.center(9,\"*\"))"
   ]
  },
  {
   "cell_type": "code",
   "execution_count": 18,
   "metadata": {},
   "outputs": [
    {
     "name": "stdout",
     "output_type": "stream",
     "text": [
      "Enter your name : Ankit\n",
      "****Ankit****\n",
      "    Ankit    \n"
     ]
    }
   ],
   "source": [
    "name=input(\"Enter your name : \")\n",
    "new=name.center(len(name)+8)\n",
    "new1=name.center(len(name)+8,\"*\")\n",
    "print(new1)\n",
    "print(new)"
   ]
  },
  {
   "cell_type": "code",
   "execution_count": 20,
   "metadata": {},
   "outputs": [
    {
     "name": "stdout",
     "output_type": "stream",
     "text": [
      "hello\n"
     ]
    }
   ],
   "source": [
    "#Conditional and looping statement\n",
    "\n",
    "age=18\n",
    "if age>=18:\n",
    "    print(\"hello\")\n",
    "else:\n",
    "    print(\"namaste\")"
   ]
  },
  {
   "cell_type": "code",
   "execution_count": 23,
   "metadata": {},
   "outputs": [
    {
     "name": "stdout",
     "output_type": "stream",
     "text": [
      "Enter your age :11\n",
      "not eligible to vote\n"
     ]
    }
   ],
   "source": [
    "stri=int(input(\"Enter your age :\"))\n",
    "if stri>=18:\n",
    "    print(\"eligible to vote\")\n",
    "else:\n",
    "    print(\"not eligible to vote\")"
   ]
  },
  {
   "cell_type": "code",
   "execution_count": 25,
   "metadata": {},
   "outputs": [],
   "source": [
    "x=18\n",
    "if x>=18:\n",
    "    pass  #don't give any error"
   ]
  },
  {
   "cell_type": "code",
   "execution_count": 29,
   "metadata": {},
   "outputs": [
    {
     "name": "stdout",
     "output_type": "stream",
     "text": [
      "Enter any number between 1 to 100 : 27\n",
      "you win the game\n"
     ]
    }
   ],
   "source": [
    "winning_number=27\n",
    "user_input=int(input(\"Enter any number between 1 to 100 : \"))\n",
    "if winning_number==user_input:\n",
    "    print(\"you win the game\")\n",
    "else:\n",
    "    if user_input>winning_number:\n",
    "        print(\"too high\")\n",
    "    else:\n",
    "        print(\"too low\")"
   ]
  },
  {
   "cell_type": "code",
   "execution_count": 33,
   "metadata": {},
   "outputs": [
    {
     "name": "stdout",
     "output_type": "stream",
     "text": [
      "correct\n"
     ]
    }
   ],
   "source": [
    "name=\"abc\"\n",
    "age=19\n",
    "if name==\"abc\" and age==19:\n",
    "    print(\"correct\")\n",
    "else:\n",
    "    print(\"not correct\")"
   ]
  },
  {
   "cell_type": "code",
   "execution_count": 34,
   "metadata": {},
   "outputs": [
    {
     "name": "stdout",
     "output_type": "stream",
     "text": [
      "correct\n"
     ]
    }
   ],
   "source": [
    "name=\"abc\"\n",
    "age=19\n",
    "if name==\"abc\" or age==20:\n",
    "    print(\"correct\")\n",
    "else:\n",
    "    print(\"not correct\")"
   ]
  },
  {
   "cell_type": "code",
   "execution_count": 36,
   "metadata": {},
   "outputs": [
    {
     "name": "stdout",
     "output_type": "stream",
     "text": [
      "Enter you name :Sahil\n",
      "Enter your age :19\n",
      "you cannot watch\n"
     ]
    }
   ],
   "source": [
    "name=input(\"Enter you name :\")\n",
    "age=int(input(\"Enter your age :\"))\n",
    "if (name[0]=='a' or name[0]=='A') and age>=18:\n",
    "    print(\"you can watch your favourite movies\")\n",
    "else:\n",
    "    print(\"you cannot watch\")"
   ]
  },
  {
   "cell_type": "code",
   "execution_count": 38,
   "metadata": {},
   "outputs": [
    {
     "name": "stdout",
     "output_type": "stream",
     "text": [
      "Enter your age :69\n",
      "ticket price is 300\n"
     ]
    }
   ],
   "source": [
    "age=int(input(\"Enter your age :\"))\n",
    "if 0<age<3:\n",
    "    print(\"free ticket\")\n",
    "elif 3<age<=10:\n",
    "    print(\"ticket price is 100\")\n",
    "elif 10<age<=18:\n",
    "    print(\"ticket price is 200\")\n",
    "else:\n",
    "    print(\"ticket price is 300\")"
   ]
  },
  {
   "cell_type": "code",
   "execution_count": 41,
   "metadata": {},
   "outputs": [
    {
     "name": "stdout",
     "output_type": "stream",
     "text": [
      "present\n"
     ]
    }
   ],
   "source": [
    "name=\"ankit\"\n",
    "if 'a' in name:\n",
    "    print(\"present\")\n",
    "else:\n",
    "    print(\"not present\")"
   ]
  },
  {
   "cell_type": "code",
   "execution_count": 43,
   "metadata": {},
   "outputs": [
    {
     "name": "stdout",
     "output_type": "stream",
     "text": [
      "empty\n"
     ]
    }
   ],
   "source": [
    "name=\"\"\n",
    "if name:\n",
    "    print(\"not empty\")\n",
    "else:\n",
    "    print(\"empty\")"
   ]
  },
  {
   "cell_type": "code",
   "execution_count": 44,
   "metadata": {},
   "outputs": [
    {
     "name": "stdout",
     "output_type": "stream",
     "text": [
      "hello\n",
      "hello\n",
      "hello\n",
      "hello\n",
      "hello\n",
      "hello\n",
      "hello\n",
      "hello\n",
      "hello\n",
      "hello\n"
     ]
    }
   ],
   "source": [
    "#using loops\n",
    "\n",
    "i=1\n",
    "while i<=10:\n",
    "    print(\"hello\")\n",
    "    i=i+1"
   ]
  },
  {
   "cell_type": "code",
   "execution_count": 45,
   "metadata": {},
   "outputs": [
    {
     "name": "stdout",
     "output_type": "stream",
     "text": [
      "55\n"
     ]
    }
   ],
   "source": [
    "total=0\n",
    "i=1\n",
    "while i<=10:\n",
    "    total=total+i\n",
    "    i=i+1\n",
    "print(total)"
   ]
  },
  {
   "cell_type": "code",
   "execution_count": 1,
   "metadata": {},
   "outputs": [
    {
     "name": "stdout",
     "output_type": "stream",
     "text": [
      "Enter number upto which you have to find sum :10\n",
      "55\n"
     ]
    }
   ],
   "source": [
    "num=int(input(\"Enter number upto which you have to find sum :\"))\n",
    "total=0\n",
    "i=1\n",
    "while i<=num:\n",
    "    total=total+i\n",
    "    i=i+1\n",
    "print(total)"
   ]
  },
  {
   "cell_type": "code",
   "execution_count": 4,
   "metadata": {},
   "outputs": [
    {
     "name": "stdout",
     "output_type": "stream",
     "text": [
      "Enter a number : 1256\n",
      "sum of digits is 14\n"
     ]
    }
   ],
   "source": [
    "digit=input(\"Enter a number : \")\n",
    "total=0\n",
    "i=0\n",
    "while i<len(digit):\n",
    "    total+=int(digit[i])\n",
    "    i=i+1\n",
    "print(f\"sum of digits is {total}\")\n"
   ]
  },
  {
   "cell_type": "code",
   "execution_count": 1,
   "metadata": {},
   "outputs": [
    {
     "name": "stdout",
     "output_type": "stream",
     "text": [
      "Enter a name :Ankit Sinha\n",
      "A : 1\n",
      "n : 2\n",
      "k : 1\n",
      "i : 2\n",
      "t : 1\n",
      "  : 1\n",
      "S : 1\n",
      "h : 1\n",
      "a : 1\n"
     ]
    }
   ],
   "source": [
    "name=input(\"Enter a name :\")\n",
    "temp_var=\"\"\n",
    "i=0\n",
    "while i<len(name):\n",
    "    if name[i] not in temp_var:\n",
    "        temp_var+=name[i]\n",
    "        print(f\"{name[i]} : {name.count(name[i])}\")\n",
    "    i=i+1"
   ]
  },
  {
   "cell_type": "code",
   "execution_count": 3,
   "metadata": {},
   "outputs": [
    {
     "name": "stdout",
     "output_type": "stream",
     "text": [
      "55\n"
     ]
    }
   ],
   "source": [
    "# using for loop\n",
    "\n",
    "total=0\n",
    "for i in range(1,11):  #here 11 is not included i.e 1 to 10 only\n",
    "    total+=i\n",
    "print(total)"
   ]
  },
  {
   "cell_type": "code",
   "execution_count": null,
   "metadata": {},
   "outputs": [],
   "source": [
    "while True:\n",
    "    print(\"Hello World\") #infinite loop and if updation not done"
   ]
  },
  {
   "cell_type": "code",
   "execution_count": 4,
   "metadata": {},
   "outputs": [
    {
     "name": "stdout",
     "output_type": "stream",
     "text": [
      "Enter a number :10\n",
      "55\n"
     ]
    }
   ],
   "source": [
    "total=0\n",
    "num=int(input(\"Enter a number :\"))\n",
    "for i in range(1,num+1):\n",
    "    total+=i\n",
    "print(total)\n"
   ]
  },
  {
   "cell_type": "code",
   "execution_count": 5,
   "metadata": {},
   "outputs": [
    {
     "name": "stdout",
     "output_type": "stream",
     "text": [
      "Enter a digit : 1234560\n",
      "sum of digits is 21\n"
     ]
    }
   ],
   "source": [
    "total=0\n",
    "num=input(\"Enter a digit : \")\n",
    "for i in range(0,len(num)):\n",
    "    total+=i\n",
    "print(f\"sum of digits is {total}\")\n",
    "\n"
   ]
  },
  {
   "cell_type": "code",
   "execution_count": 10,
   "metadata": {},
   "outputs": [
    {
     "name": "stdout",
     "output_type": "stream",
     "text": [
      "Enter your name :Ankit Sinha\n",
      "A : 1\n",
      "n : 2\n",
      "k : 1\n",
      "i : 2\n",
      "t : 1\n",
      "  : 1\n",
      "S : 1\n",
      "h : 1\n",
      "a : 1\n"
     ]
    }
   ],
   "source": [
    "name=input(\"Enter your name :\")\n",
    "temp_var=\"\"\n",
    "for i in range (0,len(name)):\n",
    "    if name[i] not in temp_var:\n",
    "        temp_var+=name[i]\n",
    "        print(f\"{name[i]} : {name.count(name[i])}\")"
   ]
  },
  {
   "cell_type": "code",
   "execution_count": 11,
   "metadata": {},
   "outputs": [
    {
     "name": "stdout",
     "output_type": "stream",
     "text": [
      "1\n",
      "2\n",
      "3\n",
      "4\n"
     ]
    }
   ],
   "source": [
    "for i in range(1,11):\n",
    "    if i==5:\n",
    "        break\n",
    "    print(i)"
   ]
  },
  {
   "cell_type": "code",
   "execution_count": 12,
   "metadata": {},
   "outputs": [
    {
     "name": "stdout",
     "output_type": "stream",
     "text": [
      "1\n",
      "2\n",
      "3\n",
      "4\n",
      "6\n",
      "7\n",
      "8\n",
      "9\n",
      "10\n"
     ]
    }
   ],
   "source": [
    "for i in range(1,11):\n",
    "    if i==5:\n",
    "        continue\n",
    "    print(i)"
   ]
  },
  {
   "cell_type": "code",
   "execution_count": 7,
   "metadata": {},
   "outputs": [
    {
     "name": "stdout",
     "output_type": "stream",
     "text": [
      "guess a number between  1 to 100 : 45\n",
      "too high\n",
      "guess again :32\n",
      "too low\n",
      "guess again :4444\n",
      "too high\n",
      "guess again :43\n",
      "you guessed number correctly and you guess 4 times\n"
     ]
    }
   ],
   "source": [
    "winning_number=43\n",
    "guess=1\n",
    "number=int(input(\"guess a number between  1 to 100 : \"))\n",
    "game_over=False\n",
    "while not game_over:\n",
    "    if number==winning_number:\n",
    "        print(f\"you guessed number correctly and you guess {guess} times\")\n",
    "        game_over=True\n",
    "    else:\n",
    "        if number>winning_number:\n",
    "            print(\"too high\")\n",
    "            guess=guess+1\n",
    "            number=int(input(\"guess again :\"))\n",
    "        else:\n",
    "            print(\"too low\")\n",
    "            guess+=1\n",
    "            number=int(input(\"guess again :\"))\n",
    "            "
   ]
  },
  {
   "cell_type": "code",
   "execution_count": null,
   "metadata": {},
   "outputs": [
    {
     "name": "stdout",
     "output_type": "stream",
     "text": [
      "guess a number between  1 to 100 : 75\n",
      "too high\n",
      "guess again :70\n",
      "too high\n",
      "guess again :33\n",
      "too low\n",
      "guess again :40\n",
      "too low\n",
      "guess again :50\n",
      "too high\n",
      "guess again :49\n",
      "too high\n",
      "guess again :45\n",
      "too high\n",
      "guess again :44\n",
      "you guessed number correctly and you guess 8 times\n",
      "guess again :12\n",
      "too low\n",
      "guess again :13\n",
      "too low\n",
      "guess again :88\n",
      "too high\n",
      "guess again :45\n",
      "too high\n",
      "guess again :39\n",
      "too low\n",
      "guess again :35\n",
      "too low\n",
      "guess again :36\n",
      "too low\n",
      "guess again :367\n",
      "too high\n",
      "guess again :37\n",
      "too low\n",
      "guess again :38\n",
      "too low\n",
      "guess again :39\n",
      "too low\n",
      "guess again :77\n",
      "too high\n"
     ]
    }
   ],
   "source": [
    "import random\n",
    "winning_number=random.randint(1,100)\n",
    "guess=1\n",
    "game_over=False\n",
    "number=int(input(\"guess a number between  1 to 100 : \"))\n",
    "while not game_over:\n",
    "    if number==winning_number:\n",
    "        print(f\"you guessed number correctly and you guess {guess} times\")\n",
    "        gave_over=True\n",
    "    else:\n",
    "        if number>winning_number:\n",
    "            print(\"too high\")\n",
    "        else:\n",
    "            print(\"too low\")\n",
    "    guess+=1\n",
    "    number=int(input(\"guess again :\"))\n",
    "    \n",
    "    \n"
   ]
  },
  {
   "cell_type": "code",
   "execution_count": 5,
   "metadata": {},
   "outputs": [
    {
     "name": "stdout",
     "output_type": "stream",
     "text": [
      "1\n",
      "4\n",
      "7\n",
      "10\n"
     ]
    }
   ],
   "source": [
    "for i in range(1,11,3): #here 3 is step argument\n",
    "    print(i)"
   ]
  },
  {
   "cell_type": "code",
   "execution_count": 6,
   "metadata": {},
   "outputs": [
    {
     "data": {
      "text/plain": [
       "9"
      ]
     },
     "execution_count": 6,
     "metadata": {},
     "output_type": "execute_result"
    }
   ],
   "source": [
    "#using functions in python\n",
    "\n",
    "def add_two(a,b):\n",
    "    total=a+b\n",
    "    return total\n",
    "add_two(4,5)"
   ]
  },
  {
   "cell_type": "code",
   "execution_count": 9,
   "metadata": {},
   "outputs": [
    {
     "name": "stdout",
     "output_type": "stream",
     "text": [
      "Enter Three numbers separated by , : 3,2,1\n",
      "average of three numbers you entered is 2.0\n"
     ]
    }
   ],
   "source": [
    "def avg(a,b,c):\n",
    "    avg=(int(n1)+int(n2)+int(n3))/3\n",
    "    return avg\n",
    "n1,n2,n3=input(\"Enter Three numbers separated by , : \").split(\",\")\n",
    "print(f\"average of three numbers you entered is {avg(n1,n2,n3)}\")\n",
    "\n",
    "    \n",
    "    "
   ]
  },
  {
   "cell_type": "code",
   "execution_count": 10,
   "metadata": {},
   "outputs": [
    {
     "data": {
      "text/plain": [
       "'a'"
      ]
     },
     "execution_count": 10,
     "metadata": {},
     "output_type": "execute_result"
    }
   ],
   "source": [
    "def last_char(s):\n",
    "    return s[-1]\n",
    "last_char(\"Ankit Sinha\")"
   ]
  },
  {
   "cell_type": "code",
   "execution_count": 2,
   "metadata": {},
   "outputs": [
    {
     "name": "stdout",
     "output_type": "stream",
     "text": [
      "Enter a Number : 57\n",
      "odd\n"
     ]
    }
   ],
   "source": [
    "def even_odd(a):\n",
    "    if a%2==0:\n",
    "        return \"even\"\n",
    "    else:\n",
    "        return \"odd\"\n",
    "n=int(input(\"Enter a Number : \"))\n",
    "print(even_odd(n))\n",
    "\n"
   ]
  },
  {
   "cell_type": "code",
   "execution_count": 3,
   "metadata": {},
   "outputs": [
    {
     "name": "stdout",
     "output_type": "stream",
     "text": [
      "True\n"
     ]
    }
   ],
   "source": [
    "def is_even(a):\n",
    "    return a%2==0\n",
    "print(is_even(46))"
   ]
  },
  {
   "cell_type": "code",
   "execution_count": 10,
   "metadata": {},
   "outputs": [
    {
     "name": "stdout",
     "output_type": "stream",
     "text": [
      "Enter two numbers : 3 4\n",
      "4 is greater\n"
     ]
    }
   ],
   "source": [
    "def greater(a,b):\n",
    "    if a>b:\n",
    "        return a\n",
    "    else:\n",
    "        return b\n",
    "n1,n2=input(\"Enter two numbers : \").split(\" \")\n",
    "a=int(n1)\n",
    "b=int(n2)\n",
    "res=greater(a,b)\n",
    "print(f\"{res} is greater\")\n",
    "    "
   ]
  },
  {
   "cell_type": "code",
   "execution_count": 17,
   "metadata": {},
   "outputs": [
    {
     "name": "stdout",
     "output_type": "stream",
     "text": [
      "greatest is 17\n"
     ]
    }
   ],
   "source": [
    "def greater(a,b):\n",
    "    if a>b:\n",
    "        return a\n",
    "    else:\n",
    "        return b\n",
    "def greatest(a,b,c):\n",
    "    bigger=greater(a,b)\n",
    "    return greater(bigger,c)\n",
    "    new=greatest(12,17,1)\n",
    "print(f\"greatest is {new}\")\n"
   ]
  },
  {
   "cell_type": "code",
   "execution_count": 19,
   "metadata": {},
   "outputs": [
    {
     "name": "stdout",
     "output_type": "stream",
     "text": [
      "Enter your Name : MADAM\n",
      "yes palindrome\n"
     ]
    }
   ],
   "source": [
    "def is_palindrome(name):\n",
    "    names=name[::-1]\n",
    "    if names==name:\n",
    "        return \"yes palindrome\"\n",
    "    else:\n",
    "        return \"Not Palindrome\"\n",
    "name=input(\"Enter your Name : \")\n",
    "print(is_palindrome(name))"
   ]
  },
  {
   "cell_type": "code",
   "execution_count": 27,
   "metadata": {},
   "outputs": [
    {
     "name": "stdout",
     "output_type": "stream",
     "text": [
      "0 1 1 2 3 5 8 13 21 "
     ]
    }
   ],
   "source": [
    "def fibonacci(n):\n",
    "    a=0\n",
    "    b=1\n",
    "    if n==1:\n",
    "        print(n)\n",
    "    elif n==2:\n",
    "        print(a,b)\n",
    "    else:\n",
    "        print(a,b,end=\" \")\n",
    "        for i in range(n-2):\n",
    "            c=a+b\n",
    "            a=b\n",
    "            b=c\n",
    "            print(b,end=\" \")\n",
    "fibonacci(9)"
   ]
  },
  {
   "cell_type": "code",
   "execution_count": 41,
   "metadata": {},
   "outputs": [
    {
     "name": "stdout",
     "output_type": "stream",
     "text": [
      "5\n"
     ]
    }
   ],
   "source": [
    "x=5\n",
    "def func():\n",
    "    global x\n",
    "    return x\n",
    "print(func())"
   ]
  },
  {
   "cell_type": "code",
   "execution_count": 13,
   "metadata": {},
   "outputs": [
    {
     "name": "stdout",
     "output_type": "stream",
     "text": [
      "[]\n",
      "['hello', 'my', 'name', 'is', 'Ankit']\n",
      "['hello', 23, 'ankit', 79, 'sinha']\n",
      "['hello', 79, 1.24]\n",
      "[[1, 2], [3, 4]]\n",
      "5\n",
      "2\n",
      "3\n"
     ]
    }
   ],
   "source": [
    "#using list\n",
    "\n",
    "empty_list=[]\n",
    "print(empty_list)\n",
    "\n",
    "Ist=['hello','my','name','is','Ankit']\n",
    "print(Ist)\n",
    "IInd=['hello',23,'ankit',79,'sinha']\n",
    "print(IInd)\n",
    "third=['hello',79,1.24]\n",
    "print(third)\n",
    "forth=[[1,2],[3,4]] #list inside list\n",
    "print(forth)\n",
    "\n",
    "print(len(Ist))\n",
    "print(len(forth))\n",
    "print(len(third))"
   ]
  },
  {
   "cell_type": "code",
   "execution_count": 22,
   "metadata": {},
   "outputs": [
    {
     "name": "stdout",
     "output_type": "stream",
     "text": [
      "['one', 'two', 5, 3, 'six', 'ten', 11]\n",
      "5\n",
      "ten\n",
      "11\n",
      "['one', 't', 'w', 'o']\n",
      "['one', 'three', 'four']\n"
     ]
    }
   ],
   "source": [
    "list1=['one','two',5,3,'six','ten',11]\n",
    "print(list1)\n",
    "print(list1[2])\n",
    "print(list1[5])\n",
    "print(list1[-1])\n",
    "list1[1:]=\"two\"\n",
    "print(list1)\n",
    "list1[1:]=\"three\",\"four\"\n",
    "print(list1)"
   ]
  },
  {
   "cell_type": "code",
   "execution_count": 33,
   "metadata": {},
   "outputs": [
    {
     "name": "stdout",
     "output_type": "stream",
     "text": [
      "['apple', 'Mango', 'grapes', 3]\n",
      "['Ankit', 'Shloke', 'Amiya', 'Shantanu', 69]\n"
     ]
    }
   ],
   "source": [
    "fruits=[\"apple\"]\n",
    "fruits.append(\"Mango\")\n",
    "fruits.append(\"grapes\")\n",
    "fruits.append(3)\n",
    "print(fruits)\n",
    "mixed=[]\n",
    "mixed.append(\"Ankit\")\n",
    "mixed.append(\"Shloke\")\n",
    "mixed.append(\"Amiya\")\n",
    "mixed.append(\"Shantanu\")\n",
    "mixed.append(69)\n",
    "print(mixed)"
   ]
  },
  {
   "cell_type": "code",
   "execution_count": 44,
   "metadata": {},
   "outputs": [
    {
     "name": "stdout",
     "output_type": "stream",
     "text": [
      "['amiya', 'Swetank']\n",
      "Swetank\n",
      "['me', 'too', 56, 63, 72, 'hiii']\n",
      "['amiya', 'Swetank', 'me', 'too', 56, 63, 72, 'hiii']\n",
      "['amiya', 'Swetank', 'me', 'too', 56, 63, 72, 'hiii']\n"
     ]
    }
   ],
   "source": [
    "lists=[]\n",
    "lists.insert(0,\"amiya\")\n",
    "lists.insert(2,\"Ankit\")\n",
    "lists[1]=\"Swetank\"\n",
    "print(lists)\n",
    "print(lists[1])\n",
    "\n",
    "hello=[\"me\",\"too\",63,72,\"hiii\"]\n",
    "hello.insert(2,56)\n",
    "print(hello)\n",
    "new=lists+hello\n",
    "print(new)\n",
    "\n",
    "lists.extend(hello)\n",
    "print(lists)"
   ]
  },
  {
   "cell_type": "code",
   "execution_count": 56,
   "metadata": {},
   "outputs": [
    {
     "name": "stdout",
     "output_type": "stream",
     "text": [
      "['pankaj', 78, 'Ankit', 79, 'Ravi', 76, 'Shloke', 93, 'Anmol', 57]\n",
      "57\n",
      "['pankaj', 78, 'Ankit', 79, 'Ravi', 76, 'Shloke', 93, 'Anmol']\n",
      "[78, 'Ankit', 79, 'Ravi', 76, 'Shloke', 93, 'Anmol']\n",
      "[78, 'Ankit', 79, 'Ravi', 76, 'Shloke', 93]\n",
      "[78, 'Ankit', 79, 'Ravi', 76, 'Shloke', 93, 78]\n",
      "2\n",
      "['Ankit', 'Pankaj', 'Shloke']\n",
      "[1, 2, 3, 4, 9, 67, 78, 88]\n",
      "[1, 2, 3, 4, 9, 67, 78, 88]\n",
      "[]\n"
     ]
    }
   ],
   "source": [
    "new=[\"pankaj\",78,\"Ankit\",79,\"Ravi\",76,\"Shloke\",93,\"Anmol\",57]\n",
    "print(new)\n",
    "new1=new.pop()\n",
    "print(new1)\n",
    "print(new)\n",
    "new.remove(\"pankaj\")\n",
    "print(new)\n",
    "new.pop()  #removes item from last\n",
    "print(new)\n",
    "new.append(78)\n",
    "print(new)\n",
    "print(new.count(78))\n",
    "new1=[\"Shloke\",\"Ankit\",\"Pankaj\"]\n",
    "new1.sort()\n",
    "print(new1)\n",
    "new2=[78,2,9,67,3,1,4,88]\n",
    "new2.sort()\n",
    "print(new2)\n",
    "print(sorted(new2))\n",
    "new2.clear()\n",
    "print(new2)\n"
   ]
  },
  {
   "cell_type": "code",
   "execution_count": 1,
   "metadata": {},
   "outputs": [
    {
     "name": "stdout",
     "output_type": "stream",
     "text": [
      "['Ankit', 'pankaj', 'Shloke', 'Swetank']\n",
      "['Ankit', 'pankaj', 'Shloke', 'Swetank']\n"
     ]
    }
   ],
   "source": [
    "n_r=[\"Ankit\",\"pankaj\",\"Shloke\",\"Swetank\"]\n",
    "new=n_r.copy() #make a copy of list\n",
    "print(n_r)\n",
    "print(new)"
   ]
  },
  {
   "cell_type": "code",
   "execution_count": 5,
   "metadata": {},
   "outputs": [
    {
     "name": "stdout",
     "output_type": "stream",
     "text": [
      "True\n",
      "False\n",
      "False\n",
      "False\n"
     ]
    }
   ],
   "source": [
    "fruits1=[\"Apple\",\"mango\",\"pear\",\"strawberry\"]\n",
    "fruits2=[\"orange\",\"guava\",\"pineapple\",\"grapes\",\"kiwi\"]\n",
    "fruits3=[\"Apple\",\"mango\",\"pear\",\"strawberry\"]\n",
    "print(fruits1==fruits3)\n",
    "print(fruits1==fruits2)\n",
    "print(fruits1 is fruits3)\n",
    "print(fruits1 is fruits2)"
   ]
  },
  {
   "cell_type": "code",
   "execution_count": 14,
   "metadata": {},
   "outputs": [
    {
     "name": "stdout",
     "output_type": "stream",
     "text": [
      "['Ankit', '79']\n",
      "['Ankit', '136']\n",
      "Ankit\n",
      "20\n"
     ]
    }
   ],
   "source": [
    "user=\"Ankit 79\".split()\n",
    "print(user)\n",
    "user1=\"Ankit,136\".split(\",\")\n",
    "print(user1)\n",
    "name,age=\"Ankit,20\".split(',')\n",
    "print(name)\n",
    "print(age)"
   ]
  },
  {
   "cell_type": "code",
   "execution_count": 19,
   "metadata": {},
   "outputs": [
    {
     "name": "stdout",
     "output_type": "stream",
     "text": [
      "ankit,20\n",
      "Rahul,23,Ankit,20\n"
     ]
    }
   ],
   "source": [
    "list1=[\"ankit\",\"20\"]\n",
    "new1=(','.join(list1))\n",
    "print(new1)\n",
    "list2=[\"Rahul\",\"23\",\"Ankit\",\"20\"]\n",
    "new2=(','.join(list2))\n",
    "print(new2)"
   ]
  },
  {
   "cell_type": "code",
   "execution_count": 20,
   "metadata": {},
   "outputs": [
    {
     "name": "stdout",
     "output_type": "stream",
     "text": [
      "['apple', 'mango', 'Grapes', 'pineapple']\n",
      "['apple', 'mango', 'Grapes', 'pineapple']\n",
      "['apple', 'mango', 'Grapes', 'pineapple']\n",
      "['apple', 'mango', 'Grapes', 'pineapple']\n"
     ]
    }
   ],
   "source": [
    "#looping in list\n",
    "\n",
    "fruits=[\"apple\",\"mango\",\"Grapes\",\"pineapple\"]\n",
    "for fruit in fruits:\n",
    "    print(fruits)"
   ]
  },
  {
   "cell_type": "code",
   "execution_count": 2,
   "metadata": {},
   "outputs": [
    {
     "name": "stdout",
     "output_type": "stream",
     "text": [
      "['ankit', 'Shloke', 'Rani', 'Pankaj']\n",
      "ankit\n",
      "['ankit', 'Shloke', 'Rani', 'Pankaj']\n",
      "Shloke\n",
      "['ankit', 'Shloke', 'Rani', 'Pankaj']\n",
      "Rani\n",
      "['ankit', 'Shloke', 'Rani', 'Pankaj']\n",
      "Pankaj\n"
     ]
    }
   ],
   "source": [
    "name=[\"ankit\",\"Shloke\",\"Rani\",\"Pankaj\"]\n",
    "i=0\n",
    "while i<len(name):\n",
    "    print(name)\n",
    "    print(name[i])\n",
    "    i=i+1"
   ]
  },
  {
   "cell_type": "code",
   "execution_count": 5,
   "metadata": {},
   "outputs": [
    {
     "name": "stdout",
     "output_type": "stream",
     "text": [
      "[1, 2, 3]\n",
      "[1, 2, 3]\n",
      "[4, 5, 6]\n",
      "[7, 8, 9]\n"
     ]
    }
   ],
   "source": [
    "matrix=[[1,2,3],[4,5,6],[7,8,9]]\n",
    "print(matrix[0])\n",
    "for i in matrix:\n",
    "    print(i)"
   ]
  },
  {
   "cell_type": "code",
   "execution_count": 15,
   "metadata": {},
   "outputs": [
    {
     "name": "stdout",
     "output_type": "stream",
     "text": [
      "1\n",
      "2\n",
      "3\n",
      "4\n",
      "5\n",
      "6\n",
      "7\n",
      "8\n",
      "9\n",
      "<class 'list'>\n",
      "6\n"
     ]
    }
   ],
   "source": [
    "matrix=[[1,2,3],[4,5,6],[7,8,9]]\n",
    "for sublist in matrix:\n",
    "    for i in sublist:\n",
    "        print(i)\n",
    "print(type(matrix))\n",
    "print(matrix[1][2])"
   ]
  },
  {
   "cell_type": "code",
   "execution_count": 11,
   "metadata": {},
   "outputs": [
    {
     "name": "stdout",
     "output_type": "stream",
     "text": [
      "[1, 2, 3, 4, 5, 6, 7, 8, 9, 10]\n",
      "10\n",
      "[1, 2, 3, 4, 5, 6, 7, 8, 9]\n",
      "6\n"
     ]
    }
   ],
   "source": [
    "numbers=list(range(1,11))\n",
    "print(numbers)\n",
    "new=numbers.pop()\n",
    "print(new)\n",
    "print(numbers)\n",
    "print(numbers.index(7))"
   ]
  },
  {
   "cell_type": "code",
   "execution_count": 14,
   "metadata": {},
   "outputs": [
    {
     "name": "stdout",
     "output_type": "stream",
     "text": [
      "[1, 2, 2, 6, 8, 9, 2, 3, 5, 6, 7]\n",
      "6\n"
     ]
    }
   ],
   "source": [
    "num=[1,2,2,6,8,9,2,3,5,6,7]\n",
    "print(num)\n",
    "print(num.index(2,3,7))"
   ]
  },
  {
   "cell_type": "code",
   "execution_count": 16,
   "metadata": {},
   "outputs": [
    {
     "data": {
      "text/plain": [
       "[-1, -2, -3, -4, -5, -6, -7, -8, -9, -10]"
      ]
     },
     "execution_count": 16,
     "metadata": {},
     "output_type": "execute_result"
    }
   ],
   "source": [
    "def negative_list(l):\n",
    "    negative=[]\n",
    "    for i in l:\n",
    "        negative.append(-i)\n",
    "    return negative\n",
    "\n",
    "new=list(range(1,11))\n",
    "negative_list(new)"
   ]
  },
  {
   "cell_type": "code",
   "execution_count": 21,
   "metadata": {},
   "outputs": [
    {
     "data": {
      "text/plain": [
       "[1, 4, 9, 16, 25, 36, 49, 64, 81, 100]"
      ]
     },
     "execution_count": 21,
     "metadata": {},
     "output_type": "execute_result"
    }
   ],
   "source": [
    "def squares(l):\n",
    "    sqr=[]\n",
    "    for i in l:\n",
    "        sqr.append(i**2)\n",
    "    return sqr\n",
    "\n",
    "nums=list(range(1,11))\n",
    "squares(nums)"
   ]
  },
  {
   "cell_type": "code",
   "execution_count": 23,
   "metadata": {},
   "outputs": [
    {
     "name": "stdout",
     "output_type": "stream",
     "text": [
      "[1, 2, 3, 4]\n"
     ]
    },
    {
     "data": {
      "text/plain": [
       "[4, 3, 2, 1]"
      ]
     },
     "execution_count": 23,
     "metadata": {},
     "output_type": "execute_result"
    }
   ],
   "source": [
    "def reverse_list(l):\n",
    "    return l[::-1]\n",
    "num=list(range(1,5))\n",
    "print(num)\n",
    "reverse_list(num)"
   ]
  },
  {
   "cell_type": "code",
   "execution_count": 4,
   "metadata": {},
   "outputs": [
    {
     "name": "stdout",
     "output_type": "stream",
     "text": [
      "[9, 8, 7, 6, 5, 4, 3, 2, 1]\n"
     ]
    }
   ],
   "source": [
    "def revlist(l):\n",
    "    rev_list=[]\n",
    "    for i in range(len(l)):\n",
    "        popped=l.pop()\n",
    "        rev_list.append(popped)\n",
    "    return rev_list\n",
    "\n",
    "num=[1,2,3,4,5,6,7,8,9]\n",
    "print(revlist(num))\n"
   ]
  },
  {
   "cell_type": "code",
   "execution_count": 28,
   "metadata": {},
   "outputs": [
    {
     "data": {
      "text/plain": [
       "['cba', 'zyx', 'wvu', 'tsg']"
      ]
     },
     "execution_count": 28,
     "metadata": {},
     "output_type": "execute_result"
    }
   ],
   "source": [
    "def revelements(l):\n",
    "    listt=[]\n",
    "    for i in l:\n",
    "        listt.append(i[::-1])\n",
    "    return listt\n",
    "\n",
    "name=[\"abc\",\"xyz\",\"uvw\",\"gst\"]\n",
    "revelements(name)"
   ]
  },
  {
   "cell_type": "code",
   "execution_count": 30,
   "metadata": {},
   "outputs": [
    {
     "data": {
      "text/plain": [
       "[[2, 4, 6, 8, 10], [1, 3, 5, 7, 9]]"
      ]
     },
     "execution_count": 30,
     "metadata": {},
     "output_type": "execute_result"
    }
   ],
   "source": [
    "def filter_odd_even(l):\n",
    "    evn_list=[]\n",
    "    odd_list=[]\n",
    "    for i in l:\n",
    "        if i%2==0:\n",
    "            evn_list.append(i)\n",
    "        else:\n",
    "            odd_list.append(i)\n",
    "    output=[evn_list,odd_list]\n",
    "    return output\n",
    "\n",
    "filter_odd_even(list(range(1,11)))"
   ]
  },
  {
   "cell_type": "code",
   "execution_count": 31,
   "metadata": {},
   "outputs": [
    {
     "data": {
      "text/plain": [
       "[1, 5, 7, 9]"
      ]
     },
     "execution_count": 31,
     "metadata": {},
     "output_type": "execute_result"
    }
   ],
   "source": [
    "def common_finder(l1,l2):\n",
    "    output=[]\n",
    "    for i in l1:\n",
    "        if i in l2:\n",
    "            output.append(i)\n",
    "    return output\n",
    "\n",
    "common_finder([1,2,5,7,9],[1,7,5,6,8,9])"
   ]
  },
  {
   "cell_type": "code",
   "execution_count": 32,
   "metadata": {},
   "outputs": [
    {
     "data": {
      "text/plain": [
       "4"
      ]
     },
     "execution_count": 32,
     "metadata": {},
     "output_type": "execute_result"
    }
   ],
   "source": [
    "def sublist_count(l):\n",
    "    count=0\n",
    "    for i in l:\n",
    "        if type(i)==list:\n",
    "            count+=1\n",
    "    return count\n",
    "\n",
    "ll=[[1,5],[\"ankit\",\"amiya\"],[7,9],[\"abc\",\"xyz\"]]\n",
    "sublist_count(ll)"
   ]
  },
  {
   "cell_type": "code",
   "execution_count": 33,
   "metadata": {},
   "outputs": [
    {
     "name": "stdout",
     "output_type": "stream",
     "text": [
      "('one', 'two', 'three')\n",
      "<class 'tuple'>\n"
     ]
    }
   ],
   "source": [
    "# Using tuples data structure\n",
    "\n",
    "tup=(\"one\",\"two\",\"three\")\n",
    "print(tup)\n",
    "print(type(tup))"
   ]
  },
  {
   "cell_type": "code",
   "execution_count": 11,
   "metadata": {},
   "outputs": [
    {
     "name": "stdout",
     "output_type": "stream",
     "text": [
      "('Ankit', 'Rishav')\n",
      "4\n",
      "1\n",
      "1\n"
     ]
    }
   ],
   "source": [
    "tup=(\"Ankit\",\"Amiya\",\"Rishav\",\"ojas\")\n",
    "print(tup[::2])\n",
    "print(len(tup))\n",
    "print(tup.count(\"ojas\"))\n",
    "print(tup.index(\"Amiya\"))\n"
   ]
  },
  {
   "cell_type": "code",
   "execution_count": 12,
   "metadata": {},
   "outputs": [
    {
     "name": "stdout",
     "output_type": "stream",
     "text": [
      "1\n",
      "2\n",
      "3\n",
      "4\n",
      "0\n"
     ]
    }
   ],
   "source": [
    "mixed=(1,2,3,4,0)\n",
    "for i in mixed:\n",
    "    print(i)"
   ]
  },
  {
   "cell_type": "code",
   "execution_count": 13,
   "metadata": {},
   "outputs": [
    {
     "name": "stdout",
     "output_type": "stream",
     "text": [
      "1\n",
      "<class 'int'>\n",
      "(1,)\n",
      "<class 'tuple'>\n"
     ]
    }
   ],
   "source": [
    "nums=(1)\n",
    "print(nums)\n",
    "print(type(nums))\n",
    "num=(1,)\n",
    "print(num)\n",
    "print(type(num))"
   ]
  },
  {
   "cell_type": "code",
   "execution_count": 15,
   "metadata": {},
   "outputs": [
    {
     "name": "stdout",
     "output_type": "stream",
     "text": [
      "('yamaha', 'honda', 'mercedes', 'bmw')\n",
      "<class 'tuple'>\n"
     ]
    }
   ],
   "source": [
    "eg=\"yamaha\",\"honda\",\"mercedes\",\"bmw\"\n",
    "print(eg)\n",
    "print(type(eg))"
   ]
  },
  {
   "cell_type": "code",
   "execution_count": 17,
   "metadata": {},
   "outputs": [
    {
     "name": "stdout",
     "output_type": "stream",
     "text": [
      "yamaha\n",
      "honda\n",
      "tata\n"
     ]
    }
   ],
   "source": [
    "eg=(\"yamaha\",\"maruti\",\"honda\",\"skoda\",\"tata\")\n",
    "eg1,eg2,eg3,eg4,eg5=(eg) #tuple unpacking\n",
    "print(eg1)\n",
    "print(eg3)\n",
    "print(eg5)"
   ]
  },
  {
   "cell_type": "code",
   "execution_count": 18,
   "metadata": {},
   "outputs": [
    {
     "name": "stdout",
     "output_type": "stream",
     "text": [
      "('hello', ['Ankit', 'Amiya'])\n",
      "<class 'tuple'>\n",
      "Amiya\n",
      "('hello', ['Ankit', 'Rishikesh'])\n"
     ]
    }
   ],
   "source": [
    "fav=('hello',[\"Ankit\",\"Amiya\"])\n",
    "print(fav)\n",
    "print(type(fav))\n",
    "new=fav[1].pop()\n",
    "print(new)\n",
    "fav[1].append(\"Rishikesh\")\n",
    "print(fav)"
   ]
  },
  {
   "cell_type": "code",
   "execution_count": 21,
   "metadata": {},
   "outputs": [
    {
     "name": "stdout",
     "output_type": "stream",
     "text": [
      "0\n",
      "4\n",
      "10\n"
     ]
    }
   ],
   "source": [
    "mixed=(1,2,3,4,0)\n",
    "print(min(mixed))\n",
    "print(max(mixed))\n",
    "print(sum(mixed))"
   ]
  },
  {
   "cell_type": "code",
   "execution_count": 25,
   "metadata": {},
   "outputs": [
    {
     "name": "stdout",
     "output_type": "stream",
     "text": [
      "(5, 6)\n",
      "5\n",
      "6\n"
     ]
    },
    {
     "data": {
      "text/plain": [
       "int"
      ]
     },
     "execution_count": 25,
     "metadata": {},
     "output_type": "execute_result"
    }
   ],
   "source": [
    "def func(int1,int2):\n",
    "    add=int1+int2\n",
    "    multiply=int1*int2\n",
    "    return add,multiply\n",
    "new=print(func(2,3))\n",
    "type(new)\n",
    "new1,new2=func(2,3)\n",
    "print(new1)\n",
    "print(new2)\n",
    "type(new1)\n",
    "type(new2)"
   ]
  },
  {
   "cell_type": "code",
   "execution_count": 27,
   "metadata": {},
   "outputs": [
    {
     "name": "stdout",
     "output_type": "stream",
     "text": [
      "(1, 2, 3, 4, 5, 6, 7, 8, 9, 10)\n"
     ]
    },
    {
     "data": {
      "text/plain": [
       "tuple"
      ]
     },
     "execution_count": 27,
     "metadata": {},
     "output_type": "execute_result"
    }
   ],
   "source": [
    "nums=tuple(range(1,11))\n",
    "print(nums)\n",
    "type(nums)"
   ]
  },
  {
   "cell_type": "code",
   "execution_count": 28,
   "metadata": {},
   "outputs": [
    {
     "name": "stdout",
     "output_type": "stream",
     "text": [
      "[1, 2, 3, 4, 5, 6, 7, 8, 9, 0]\n"
     ]
    },
    {
     "data": {
      "text/plain": [
       "list"
      ]
     },
     "execution_count": 28,
     "metadata": {},
     "output_type": "execute_result"
    }
   ],
   "source": [
    "nums=list((1,2,3,4,5,6,7,8,9,0))\n",
    "print(nums)\n",
    "type(nums)"
   ]
  },
  {
   "cell_type": "code",
   "execution_count": 30,
   "metadata": {},
   "outputs": [
    {
     "name": "stdout",
     "output_type": "stream",
     "text": [
      "{'name': 'Ankit', 'Roll': 79}\n"
     ]
    },
    {
     "data": {
      "text/plain": [
       "dict"
      ]
     },
     "execution_count": 30,
     "metadata": {},
     "output_type": "execute_result"
    }
   ],
   "source": [
    "# using dictionary data structures\n",
    "\n",
    "user={'name':'Ankit','Roll':79}\n",
    "print(user)\n",
    "type(user)"
   ]
  },
  {
   "cell_type": "code",
   "execution_count": 33,
   "metadata": {},
   "outputs": [
    {
     "name": "stdout",
     "output_type": "stream",
     "text": [
      "{'name': 'Ankit', 'roll': 79}\n",
      "79\n"
     ]
    }
   ],
   "source": [
    "user1=dict(name='Ankit',roll=79)\n",
    "print(user1)\n",
    "type(user1)\n",
    "print(user1['roll'])"
   ]
  },
  {
   "cell_type": "code",
   "execution_count": 38,
   "metadata": {},
   "outputs": [
    {
     "name": "stdout",
     "output_type": "stream",
     "text": [
      "{'name': 'Ankit', 'branch': 'Mathematics and computing', 'roll': 79, 'movies': ['3 idiots', 'uri', 'Ms dhoni'], 'songs': ['godzilla', 'faded', 'dark side']}\n"
     ]
    },
    {
     "data": {
      "text/plain": [
       "dict"
      ]
     },
     "execution_count": 38,
     "metadata": {},
     "output_type": "execute_result"
    }
   ],
   "source": [
    "user_info={\n",
    "    'name':'Ankit',\n",
    "    'branch':\"Mathematics and computing\",\n",
    "    'roll':79,\n",
    "    'movies':[\"3 idiots\",\"uri\",\"Ms dhoni\"],\n",
    "    'songs':[\"godzilla\",\"faded\",\"dark side\"]\n",
    "    \n",
    "}\n",
    "print(user_info)\n",
    "type(user_info)"
   ]
  },
  {
   "cell_type": "code",
   "execution_count": 39,
   "metadata": {},
   "outputs": [
    {
     "name": "stdout",
     "output_type": "stream",
     "text": [
      "{'name': 'Ankit', 'Roll': 79}\n"
     ]
    }
   ],
   "source": [
    "user_info={}\n",
    "user_info['name']='Ankit'\n",
    "user_info['Roll']=79\n",
    "print(user_info)"
   ]
  },
  {
   "cell_type": "code",
   "execution_count": 43,
   "metadata": {},
   "outputs": [
    {
     "name": "stdout",
     "output_type": "stream",
     "text": [
      "present\n",
      "present\n"
     ]
    }
   ],
   "source": [
    "user_info={\n",
    "    'name':'Ankit',\n",
    "    'branch':\"Mathematics and computing\",\n",
    "    'roll':79,\n",
    "    'movies':[\"3 idiots\",\"uri\",\"Ms dhoni\"],\n",
    "    'songs':[\"godzilla\",\"faded\",\"dark side\"]\n",
    "    }\n",
    "if 'name' in user_info:\n",
    "    print('present')\n",
    "else:\n",
    "    print('no present')\n",
    "if 'Ankit' in user_info.values():\n",
    "    print('present')\n",
    "else:\n",
    "    print(\"not present\")"
   ]
  },
  {
   "cell_type": "code",
   "execution_count": 47,
   "metadata": {},
   "outputs": [
    {
     "name": "stdout",
     "output_type": "stream",
     "text": [
      "name\n",
      "branch\n",
      "roll\n",
      "movies\n",
      "songs\n",
      "Ankit\n",
      "Mathematics and computing\n",
      "79\n",
      "['3 idiots', 'uri', 'Ms dhoni']\n",
      "['godzilla', 'faded', 'dark side']\n"
     ]
    },
    {
     "data": {
      "text/plain": [
       "dict_values"
      ]
     },
     "execution_count": 47,
     "metadata": {},
     "output_type": "execute_result"
    }
   ],
   "source": [
    "user_info={\n",
    "    'name':'Ankit',\n",
    "    'branch':\"Mathematics and computing\",\n",
    "    'roll':79,\n",
    "    'movies':[\"3 idiots\",\"uri\",\"Ms dhoni\"],\n",
    "    'songs':[\"godzilla\",\"faded\",\"dark side\"]\n",
    "    }\n",
    "\n",
    "for i in user_info:\n",
    "    print(i)\n",
    "for i in user_info.values():\n",
    "    print(i)\n",
    "type(user_info.values())"
   ]
  },
  {
   "cell_type": "code",
   "execution_count": 51,
   "metadata": {},
   "outputs": [
    {
     "name": "stdout",
     "output_type": "stream",
     "text": [
      "dict_items([('name', 'Ankit'), ('branch', 'Mathematics and computing'), ('roll', 79), ('movies', ['3 idiots', 'uri', 'Ms dhoni']), ('songs', ['godzilla', 'faded', 'dark side'])])\n",
      "key is name and value is Ankit\n",
      "key is branch and value is Mathematics and computing\n",
      "key is roll and value is 79\n",
      "key is movies and value is ['3 idiots', 'uri', 'Ms dhoni']\n",
      "key is songs and value is ['godzilla', 'faded', 'dark side']\n"
     ]
    }
   ],
   "source": [
    "user_info={\n",
    "    'name':'Ankit',\n",
    "    'branch':\"Mathematics and computing\",\n",
    "    'roll':79,\n",
    "    'movies':[\"3 idiots\",\"uri\",\"Ms dhoni\"],\n",
    "    'songs':[\"godzilla\",\"faded\",\"dark side\"]\n",
    "    }\n",
    "\n",
    "user=user_info.items()\n",
    "print(user)\n",
    "type(user)\n",
    "for key,value in user_info.items():\n",
    "    print(f\"key is {key} and value is {value}\")"
   ]
  },
  {
   "cell_type": "code",
   "execution_count": 5,
   "metadata": {},
   "outputs": [
    {
     "name": "stdout",
     "output_type": "stream",
     "text": [
      "{'songs': ['faded', 'dark side', 'godzilla']}\n",
      "['faded', 'dark side', 'godzilla']\n",
      "{}\n"
     ]
    }
   ],
   "source": [
    "user_info={}\n",
    "user_info['songs']=[\"faded\",\"dark side\",\"godzilla\"]\n",
    "print(user_info)\n",
    "new=user_info.pop('songs') #returns list\n",
    "print(new)\n",
    "print(user_info)\n"
   ]
  },
  {
   "cell_type": "code",
   "execution_count": 7,
   "metadata": {},
   "outputs": [
    {
     "name": "stdout",
     "output_type": "stream",
     "text": [
      "('songs', ['godzilla', 'faded', 'dark side'])\n",
      "{'name': 'Ankit', 'branch': 'Mathematics and computing', 'roll': 79, 'movies': ['3 idiots', 'uri', 'Ms dhoni']}\n",
      "{'name': 'Ankit', 'branch': 'Mathematics and computing', 'roll': 79, 'movies': ['3 idiots', 'uri', 'Ms dhoni'], 'state': 'bihar', 'city': 'patna', 'hobbies': ['badminton', 'volleyball', 'cricket']}\n"
     ]
    }
   ],
   "source": [
    "user_info={\n",
    "    'name':'Ankit',\n",
    "    'branch':\"Mathematics and computing\",\n",
    "    'roll':79,\n",
    "    'movies':[\"3 idiots\",\"uri\",\"Ms dhoni\"],\n",
    "    'songs':[\"godzilla\",\"faded\",\"dark side\"]\n",
    "    }\n",
    "\n",
    "more_info={'state':'bihar','city':\"patna\",'hobbies':[\"badminton\",\"volleyball\",\"cricket\"]}\n",
    "\n",
    "\n",
    "popped=user_info.popitem() #randomly removes\n",
    "print(popped)\n",
    "print(user_info)\n",
    "user_info.update(more_info)\n",
    "print(user_info)\n"
   ]
  },
  {
   "cell_type": "code",
   "execution_count": 9,
   "metadata": {},
   "outputs": [
    {
     "name": "stdout",
     "output_type": "stream",
     "text": [
      "bihar\n",
      "['badminton', 'volleyball', 'cricket']\n"
     ]
    }
   ],
   "source": [
    "d={'state':'bihar','city':\"patna\",'hobbies':[\"badminton\",\"volleyball\",\"cricket\"]}\n",
    "print(d.get(\"state\"))\n",
    "print(d.get(\"hobbies\"))"
   ]
  },
  {
   "cell_type": "code",
   "execution_count": 17,
   "metadata": {},
   "outputs": [
    {
     "name": "stdout",
     "output_type": "stream",
     "text": [
      "{'name': 'unknown', 'age': 'unknown', 'height': 'unknown'}\n",
      "{1: 'hello', 2: 'hello', 3: 'hello', 4: 'hello', 5: 'hello'}\n",
      "{}\n",
      "{'name': 'Ankit', 'roll': 79}\n",
      "('roll', 79)\n",
      "{'name': 'Ankit'}\n",
      "{'name': 'Ankit', 'roll': 79}\n"
     ]
    }
   ],
   "source": [
    "d={'name':'unknown','age':'unknown'}\n",
    "d=dict.fromkeys(['name','age','height'],\"unknown\")\n",
    "print(d)\n",
    "d=dict.fromkeys(range(1,6),\"hello\")\n",
    "print(d)\n",
    "d.clear()\n",
    "print(d)\n",
    "d1={\"name\":'Ankit',\"roll\":79}\n",
    "d2=d1.copy()\n",
    "print(d2)\n",
    "print(d2.popitem())\n",
    "print(d2)\n",
    "d2.update(d1)\n",
    "print(d2)"
   ]
  },
  {
   "cell_type": "code",
   "execution_count": 18,
   "metadata": {},
   "outputs": [
    {
     "data": {
      "text/plain": [
       "{1: 1, 2: 8, 3: 27, 4: 64, 5: 125, 6: 216, 7: 343, 8: 512, 9: 729, 10: 1000}"
      ]
     },
     "execution_count": 18,
     "metadata": {},
     "output_type": "execute_result"
    }
   ],
   "source": [
    "def cube_finder(d):\n",
    "    cubes={}\n",
    "    for i in range(1,d+1):\n",
    "        cubes[i]=i**3\n",
    "    return cubes\n",
    "cube_finder(10)\n",
    "        "
   ]
  },
  {
   "cell_type": "code",
   "execution_count": 20,
   "metadata": {},
   "outputs": [
    {
     "data": {
      "text/plain": [
       "{'A': 2, 'n': 1, 'k': 1, 'i': 1, 't': 1}"
      ]
     },
     "execution_count": 20,
     "metadata": {},
     "output_type": "execute_result"
    }
   ],
   "source": [
    "def word_counter(s):\n",
    "    count={}\n",
    "    for char in s:\n",
    "        count[char]=s.count(char)\n",
    "    return count\n",
    "word_counter(\"AAnkit\")"
   ]
  },
  {
   "cell_type": "code",
   "execution_count": 23,
   "metadata": {},
   "outputs": [
    {
     "name": "stdout",
     "output_type": "stream",
     "text": [
      "Enter your name :ankit\n",
      "input your roll : 79\n",
      "input your state :bihar\n",
      "Enter your city : patna\n",
      "{'name': 'ankit', 'roll': '79', 'state': 'bihar', 'city': 'patna'}\n",
      "name:ankit\n",
      "roll:79\n",
      "state:bihar\n",
      "city:patna\n"
     ]
    }
   ],
   "source": [
    "user={}\n",
    "name=input(\"Enter your name :\")\n",
    "roll=input(\"input your roll : \")\n",
    "state=input(\"input your state :\")\n",
    "city=input(\"Enter your city : \")\n",
    "\n",
    "user['name']=name\n",
    "user['roll']=roll\n",
    "user['state']=state\n",
    "user['city']=city\n",
    "print(user)\n",
    "for key,value in user.items():\n",
    "    print(f\"{key}:{value}\")"
   ]
  },
  {
   "cell_type": "code",
   "execution_count": 35,
   "metadata": {},
   "outputs": [
    {
     "name": "stdout",
     "output_type": "stream",
     "text": [
      "<class 'set'>\n",
      "{1, 2, 3, 4, 5, 6, 7, 66, 88}\n",
      "[1, 2, 3, 4, 5, 6, 7, 66, 88]\n",
      "{1, 2, 3, 4, 5, 6, 7, 66, 100, 88, 90, 92}\n",
      "{1, 2, 3, 4, 5, 6, 66, 100, 88, 90, 92}\n",
      "{1, 2, 3, 4, 5, 6, 66, 88, 90, 92}\n",
      "{1, 2, 3, 4, 5, 6, 66, 88, 90, 92}\n",
      "set()\n"
     ]
    }
   ],
   "source": [
    "# using sets\n",
    "\n",
    "s={1,2,3}\n",
    "print(type(s))\n",
    "l=[1,2,3,4,5,6,7,7,88,7,66,7,2,1,3]\n",
    "l1=set(l) #unique elements only\n",
    "print(l1)\n",
    "s2=list(set(l)) #converts sets to list\n",
    "print(s2)\n",
    "l1.add(90)\n",
    "l1.add(92)\n",
    "l1.add(100)\n",
    "print(l1)\n",
    "l1.remove(7)\n",
    "print(l1)\n",
    "l1.discard(100)\n",
    "print(l1)\n",
    "igt=l1.copy()\n",
    "print(igt)\n",
    "l1.clear()\n",
    "print(l1)\n",
    "# we cannot store list,tuples in sets"
   ]
  },
  {
   "cell_type": "code",
   "execution_count": 39,
   "metadata": {},
   "outputs": [
    {
     "name": "stdout",
     "output_type": "stream",
     "text": [
      "present\n",
      "a\n",
      "a\n",
      "c\n",
      "c\n",
      "b\n",
      "b\n"
     ]
    }
   ],
   "source": [
    "s={'a','b','c'}\n",
    "if 'a' in s:\n",
    "    print(\"present\")\n",
    "else:\n",
    "    print(\"no present\")\n",
    "for item in s:\n",
    "    print(item) #unordered\n",
    "    print(item)"
   ]
  },
  {
   "cell_type": "code",
   "execution_count": 40,
   "metadata": {},
   "outputs": [
    {
     "name": "stdout",
     "output_type": "stream",
     "text": [
      "{1, 2, 3}\n"
     ]
    }
   ],
   "source": [
    "l=[1,2,3]\n",
    "print(set(l))"
   ]
  },
  {
   "cell_type": "code",
   "execution_count": 43,
   "metadata": {},
   "outputs": [
    {
     "name": "stdout",
     "output_type": "stream",
     "text": [
      "{1, 2, 3, 4, 5, 6, 7, 8, 9}\n",
      "{1, 2, 5}\n"
     ]
    }
   ],
   "source": [
    "s1={1,2,3,4,4,5,7}\n",
    "s2={1,2,5,6,8,9,8}\n",
    "new=s1|s2  #union of sets\n",
    "print(new)\n",
    "new1=s1&s2 #intersection of sets\n",
    "print(new1)"
   ]
  },
  {
   "cell_type": "code",
   "execution_count": 1,
   "metadata": {},
   "outputs": [
    {
     "name": "stdout",
     "output_type": "stream",
     "text": [
      "[1, 4, 9]\n"
     ]
    }
   ],
   "source": [
    "numbers=[1,2,3]\n",
    "def poweroftwo(num):\n",
    "    return num**2;\n",
    "squared=list(map(poweroftwo,numbers))\n",
    "print(squared)"
   ]
  },
  {
   "cell_type": "code",
   "execution_count": 2,
   "metadata": {},
   "outputs": [
    {
     "name": "stdout",
     "output_type": "stream",
     "text": [
      "10\n"
     ]
    }
   ],
   "source": [
    "double=lambda x:x*2\n",
    "print(double(5))"
   ]
  },
  {
   "cell_type": "code",
   "execution_count": 3,
   "metadata": {},
   "outputs": [
    {
     "name": "stdout",
     "output_type": "stream",
     "text": [
      "Convert a string or number to a floating point number, if possible.\n"
     ]
    }
   ],
   "source": [
    "import math\n",
    "print(math.pi.__doc__)"
   ]
  },
  {
   "cell_type": "code",
   "execution_count": 4,
   "metadata": {},
   "outputs": [
    {
     "data": {
      "text/plain": [
       "['.anaconda',\n",
       " '.bash_history',\n",
       " '.conda',\n",
       " '.condarc',\n",
       " '.idlerc',\n",
       " '.ipynb_checkpoints',\n",
       " '.ipython',\n",
       " '.jupyter',\n",
       " '.nbi',\n",
       " '.pylint.d',\n",
       " '.vscode',\n",
       " '2.5.ipynb',\n",
       " '3D Objects',\n",
       " 'ansel',\n",
       " 'AppData',\n",
       " 'Application Data',\n",
       " 'Contacts',\n",
       " 'Cookies',\n",
       " 'Creative Cloud Files',\n",
       " 'Desktop',\n",
       " 'Documents',\n",
       " 'Downloads',\n",
       " 'Favorites',\n",
       " 'IntelGraphicsProfiles',\n",
       " 'Links',\n",
       " 'Local Settings',\n",
       " 'MicrosoftEdgeBackups',\n",
       " 'Music',\n",
       " 'My Documents',\n",
       " 'NetHood',\n",
       " 'NTUSER.DAT',\n",
       " 'ntuser.dat.LOG1',\n",
       " 'ntuser.dat.LOG2',\n",
       " 'NTUSER.DAT{fd9a35db-49fe-11e9-aa2c-248a07783950}.TM.blf',\n",
       " 'NTUSER.DAT{fd9a35db-49fe-11e9-aa2c-248a07783950}.TMContainer00000000000000000001.regtrans-ms',\n",
       " 'NTUSER.DAT{fd9a35db-49fe-11e9-aa2c-248a07783950}.TMContainer00000000000000000002.regtrans-ms',\n",
       " 'ntuser.ini',\n",
       " 'OneDrive',\n",
       " 'Pictures',\n",
       " 'PrintHood',\n",
       " 'Project(Black Friday) with own knn model.ipynb',\n",
       " 'python_practice.ipynb',\n",
       " 'Recent',\n",
       " 'Saved Games',\n",
       " 'Searches',\n",
       " 'SendTo',\n",
       " 'Start Menu',\n",
       " 'Templates',\n",
       " 'Untitled.ipynb',\n",
       " 'Videos']"
      ]
     },
     "execution_count": 4,
     "metadata": {},
     "output_type": "execute_result"
    }
   ],
   "source": [
    "import os\n",
    "os.listdir(os.getcwd())"
   ]
  },
  {
   "cell_type": "code",
   "execution_count": 1,
   "metadata": {},
   "outputs": [
    {
     "name": "stdout",
     "output_type": "stream",
     "text": [
      "/c/Users/ANKIT\n"
     ]
    }
   ],
   "source": [
    "!pwd"
   ]
  }
 ],
 "metadata": {
  "kernelspec": {
   "display_name": "Python 3",
   "language": "python",
   "name": "python3"
  },
  "language_info": {
   "codemirror_mode": {
    "name": "ipython",
    "version": 3
   },
   "file_extension": ".py",
   "mimetype": "text/x-python",
   "name": "python",
   "nbconvert_exporter": "python",
   "pygments_lexer": "ipython3",
   "version": "3.7.6"
  }
 },
 "nbformat": 4,
 "nbformat_minor": 2
}
